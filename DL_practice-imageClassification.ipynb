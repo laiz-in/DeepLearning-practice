{
  "nbformat": 4,
  "nbformat_minor": 0,
  "metadata": {
    "colab": {
      "provenance": []
    },
    "kernelspec": {
      "name": "python3",
      "display_name": "Python 3"
    },
    "language_info": {
      "name": "python"
    },
    "accelerator": "GPU",
    "gpuClass": "standard"
  },
  "cells": [
    {
      "cell_type": "code",
      "execution_count": null,
      "metadata": {
        "id": "mmtIuFxnhWLU"
      },
      "outputs": [],
      "source": [
        "import tensorflow"
      ]
    },
    {
      "cell_type": "code",
      "source": [
        "print(tensorflow.__version__)"
      ],
      "metadata": {
        "colab": {
          "base_uri": "https://localhost:8080/"
        },
        "id": "-zYJ-BmujLLs",
        "outputId": "c7c0b2e1-988d-4eae-f2f9-067a86d70449"
      },
      "execution_count": null,
      "outputs": [
        {
          "output_type": "stream",
          "name": "stdout",
          "text": [
            "2.9.2\n"
          ]
        }
      ]
    },
    {
      "cell_type": "code",
      "source": [
        "import numpy as np\n",
        "import matplotlib.pyplot as plt\n",
        "import pandas as pd\n",
        "import os\n",
        "import tensorflow as tf\n",
        "import seaborn as sns\n",
        "#importing all libraries"
      ],
      "metadata": {
        "id": "-ZPgX5RYkBr7"
      },
      "execution_count": 32,
      "outputs": []
    },
    {
      "cell_type": "code",
      "source": [
        "mnist=tf.keras.datasets.mnist"
      ],
      "metadata": {
        "id": "-NcIikR35ZWV"
      },
      "execution_count": 2,
      "outputs": []
    },
    {
      "cell_type": "code",
      "source": [
        "(X_train_full,y_train_full),(X_test,y_test)=mnist.load_data()\n",
        "#downloading the dataset from keras"
      ],
      "metadata": {
        "colab": {
          "base_uri": "https://localhost:8080/"
        },
        "id": "MWNsKCrQ6HwB",
        "outputId": "cf0599d6-60f7-4c71-db60-c64a0047a3f6"
      },
      "execution_count": 3,
      "outputs": [
        {
          "output_type": "stream",
          "name": "stdout",
          "text": [
            "Downloading data from https://storage.googleapis.com/tensorflow/tf-keras-datasets/mnist.npz\n",
            "11490434/11490434 [==============================] - 1s 0us/step\n"
          ]
        }
      ]
    },
    {
      "cell_type": "code",
      "source": [
        "X_train_full.shape"
      ],
      "metadata": {
        "colab": {
          "base_uri": "https://localhost:8080/"
        },
        "id": "X7XJcj2x6aCf",
        "outputId": "b418b437-cce9-4948-ae6e-40ce4b195eaa"
      },
      "execution_count": 4,
      "outputs": [
        {
          "output_type": "execute_result",
          "data": {
            "text/plain": [
              "(60000, 28, 28)"
            ]
          },
          "metadata": {},
          "execution_count": 4
        }
      ]
    },
    {
      "cell_type": "markdown",
      "source": [
        "so this dataset is containing 60000 images of 28x28 pixels \n"
      ],
      "metadata": {
        "id": "_i_2cew06gkL"
      }
    },
    {
      "cell_type": "code",
      "source": [
        "plt.imshow(X_train_full[10000],cmap='binary')\n",
        "plt.axis(\"off\")\n",
        "plt.show()"
      ],
      "metadata": {
        "colab": {
          "base_uri": "https://localhost:8080/",
          "height": 248
        },
        "id": "srJDxitg7Azw",
        "outputId": "dacd25a5-ccc8-4ac3-f01e-3482a6558085"
      },
      "execution_count": 5,
      "outputs": [
        {
          "output_type": "display_data",
          "data": {
            "text/plain": [
              "<Figure size 432x288 with 1 Axes>"
            ],
            "image/png": "[encoded data removed]"
          },
          "metadata": {
            "needs_background": "light"
          }
        }
      ]
    },
    {
      "cell_type": "markdown",
      "source": [
        "this is an image at the index 10000 . that represents the digit 3"
      ],
      "metadata": {
        "id": "Mmzo4Fwa7Ld_"
      }
    },
    {
      "cell_type": "code",
      "source": [
        "X_valid, X_train = X_train_full[:5000] / 255., X_train_full[5000:] / 255.\n",
        "y_valid, y_train = y_train_full[:5000], y_train_full[5000:]\n",
        "\n",
        "#we are scaling the data to a value between 1 and 0 . we can achieve it by dividing the value by 255"
      ],
      "metadata": {
        "id": "kyme7BjT7byA"
      },
      "execution_count": 6,
      "outputs": []
    },
    {
      "cell_type": "code",
      "source": [
        "X_test = X_test / 255.\n",
        "\n",
        "#scale the test data too"
      ],
      "metadata": {
        "id": "eN-SMJ5S72T6"
      },
      "execution_count": 7,
      "outputs": []
    },
    {
      "cell_type": "code",
      "source": [
        "#lets see the shapes of the datas\n",
        "\n",
        "print(X_valid.shape)\n",
        "print(X_train.shape)\n",
        "print(y_valid.shape)\n",
        "print(y_train.shape)"
      ],
      "metadata": {
        "colab": {
          "base_uri": "https://localhost:8080/"
        },
        "id": "jEFHzSVY7-D1",
        "outputId": "f0d5bd99-2e9b-4cd2-8c1a-97b851a9ee65"
      },
      "execution_count": 8,
      "outputs": [
        {
          "output_type": "stream",
          "name": "stdout",
          "text": [
            "(5000, 28, 28)\n",
            "(55000, 28, 28)\n",
            "(5000,)\n",
            "(55000,)\n"
          ]
        }
      ]
    },
    {
      "cell_type": "markdown",
      "source": [
        "5000 images we set for validating the model , 55000 images for training"
      ],
      "metadata": {
        "id": "estimLFU8Gpv"
      }
    },
    {
      "cell_type": "code",
      "source": [
        "plt.figure(figsize=(15,15))\n",
        "sns.heatmap(X_train[1000],annot=True,cmap=\"binary\")"
      ],
      "metadata": {
        "colab": {
          "base_uri": "https://localhost:8080/",
          "height": 884
        },
        "id": "dRIWoiGN8VKw",
        "outputId": "7305b163-e76b-4673-b4c1-f0eac9264ff9"
      },
      "execution_count": 9,
      "outputs": [
        {
          "output_type": "execute_result",
          "data": {
            "text/plain": [
              "<matplotlib.axes._subplots.AxesSubplot at 0x7f911022da30>"
            ]
          },
          "metadata": {},
          "execution_count": 9
        },
        {
          "output_type": "display_data",
          "data": {
            "text/plain": [
              "<Figure size 1080x1080 with 2 Axes>"
            ],
            "image/png": "[encoded data removed]"
          },
          "metadata": {
            "needs_background": "light"
          }
        }
      ]
    },
    {
      "cell_type": "code",
      "source": [
        "#lets define the layers of neural network and make it a list , then store it into a variable\n",
        "\n",
        "LAYERS=[tf.keras.layers.Flatten(input_shape=[28,28],name=\"inputlayer\"),\n",
        "        tf.keras.layers.Dense(300,activation='relu',name=\"hiddenlayer1\"),\n",
        "        tf.keras.layers.Dense(100,activation='relu',name=\"hiddenlayer2\"),\n",
        "        tf.keras.layers.Dense(10,activation='softmax',name=\"outputlayer\")]\n",
        "\n",
        "\n",
        "# flattening is used to convert the 2D into into 1D , We can not feed a 2D data into neaural network\n",
        "# we are setting the hidden layer 1 is 300 neurons and hidden layer 2 to 100 neurons \n",
        "# output neurons are 10 , because we have 10 output classes (0-9)\n",
        "# activatation function is RELU for hidden layers\n",
        "# activation function is SOFTMAX for ouput layer"
      ],
      "metadata": {
        "id": "cBGt6TQ98kmZ"
      },
      "execution_count": 10,
      "outputs": []
    },
    {
      "cell_type": "code",
      "source": [
        "#define the classifier model using the below command\n",
        "\n",
        "model_clf=tf.keras.models.Sequential(LAYERS)"
      ],
      "metadata": {
        "id": "aWcX652n9z1H"
      },
      "execution_count": 11,
      "outputs": []
    },
    {
      "cell_type": "code",
      "source": [
        "model_clf.summary()"
      ],
      "metadata": {
        "colab": {
          "base_uri": "https://localhost:8080/"
        },
        "id": "vggX0GKB_CZg",
        "outputId": "125e62f4-7897-40db-d898-230327a5d9cd"
      },
      "execution_count": 12,
      "outputs": [
        {
          "output_type": "stream",
          "name": "stdout",
          "text": [
            "Model: \"sequential\"\n",
            "_________________________________________________________________\n",
            " Layer (type)                Output Shape              Param #   \n",
            "=================================================================\n",
            " inputlayer (Flatten)        (None, 784)               0         \n",
            "                                                                 \n",
            " hiddenlayer1 (Dense)        (None, 300)               235500    \n",
            "                                                                 \n",
            " hiddenlayer2 (Dense)        (None, 100)               30100     \n",
            "                                                                 \n",
            " outputlayer (Dense)         (None, 10)                1010      \n",
            "                                                                 \n",
            "=================================================================\n",
            "Total params: 266,610\n",
            "Trainable params: 266,610\n",
            "Non-trainable params: 0\n",
            "_________________________________________________________________\n"
          ]
        }
      ]
    },
    {
      "cell_type": "markdown",
      "source": [
        "this is the summary of our classifier , we training total of 2,66,610 parameters"
      ],
      "metadata": {
        "id": "OiJvADxS_N9N"
      }
    },
    {
      "cell_type": "code",
      "source": [
        "#define the hyperparameters\n",
        "\n",
        "LOSS_FUNCTION=\"sparse_categorical_crossentropy\"\n",
        "OPTIMIZER=\"ADAM\"\n",
        "METRICS=[\"accuracy\"]\n",
        "\n",
        "#compile the model\n",
        "\n",
        "model_clf.compile(loss=LOSS_FUNCTION,optimizer=OPTIMIZER,metrics=METRICS)"
      ],
      "metadata": {
        "id": "iS_2teXs_ZDK"
      },
      "execution_count": 13,
      "outputs": []
    },
    {
      "cell_type": "code",
      "source": [
        "hidden1=model_clf.layers[1]\n",
        "weights,biases=hidden1.get_weights()\n",
        "\n",
        "print(weights)\n",
        "print(biases)"
      ],
      "metadata": {
        "colab": {
          "base_uri": "https://localhost:8080/"
        },
        "id": "a_mJ1B_i_qAX",
        "outputId": "fbfe6ab5-a008-4f48-ba58-2657ca8b89b4"
      },
      "execution_count": 16,
      "outputs": [
        {
          "output_type": "stream",
          "name": "stdout",
          "text": [
            "[[ 0.06641799 -0.04116812  0.0282878  ...  0.04401124 -0.02537343\n",
            "  -0.00288974]\n",
            " [-0.05001541 -0.06880406  0.06010634 ...  0.00138415 -0.06173373\n",
            "   0.00670846]\n",
            " [ 0.03509365 -0.05386413  0.01305182 ... -0.05295548 -0.03371542\n",
            "   0.06662866]\n",
            " ...\n",
            " [-0.06334563  0.04585665 -0.04547104 ... -0.01042023 -0.05067806\n",
            "  -0.02608525]\n",
            " [ 0.0500659   0.03011267  0.01597279 ... -0.04315309  0.00412192\n",
            "   0.01021691]\n",
            " [-0.05154975 -0.02494453  0.01309261 ...  0.06110916 -0.05082534\n",
            "  -0.0304097 ]]\n",
            "[0. 0. 0. 0. 0. 0. 0. 0. 0. 0. 0. 0. 0. 0. 0. 0. 0. 0. 0. 0. 0. 0. 0. 0.\n",
            " 0. 0. 0. 0. 0. 0. 0. 0. 0. 0. 0. 0. 0. 0. 0. 0. 0. 0. 0. 0. 0. 0. 0. 0.\n",
            " 0. 0. 0. 0. 0. 0. 0. 0. 0. 0. 0. 0. 0. 0. 0. 0. 0. 0. 0. 0. 0. 0. 0. 0.\n",
            " 0. 0. 0. 0. 0. 0. 0. 0. 0. 0. 0. 0. 0. 0. 0. 0. 0. 0. 0. 0. 0. 0. 0. 0.\n",
            " 0. 0. 0. 0. 0. 0. 0. 0. 0. 0. 0. 0. 0. 0. 0. 0. 0. 0. 0. 0. 0. 0. 0. 0.\n",
            " 0. 0. 0. 0. 0. 0. 0. 0. 0. 0. 0. 0. 0. 0. 0. 0. 0. 0. 0. 0. 0. 0. 0. 0.\n",
            " 0. 0. 0. 0. 0. 0. 0. 0. 0. 0. 0. 0. 0. 0. 0. 0. 0. 0. 0. 0. 0. 0. 0. 0.\n",
            " 0. 0. 0. 0. 0. 0. 0. 0. 0. 0. 0. 0. 0. 0. 0. 0. 0. 0. 0. 0. 0. 0. 0. 0.\n",
            " 0. 0. 0. 0. 0. 0. 0. 0. 0. 0. 0. 0. 0. 0. 0. 0. 0. 0. 0. 0. 0. 0. 0. 0.\n",
            " 0. 0. 0. 0. 0. 0. 0. 0. 0. 0. 0. 0. 0. 0. 0. 0. 0. 0. 0. 0. 0. 0. 0. 0.\n",
            " 0. 0. 0. 0. 0. 0. 0. 0. 0. 0. 0. 0. 0. 0. 0. 0. 0. 0. 0. 0. 0. 0. 0. 0.\n",
            " 0. 0. 0. 0. 0. 0. 0. 0. 0. 0. 0. 0. 0. 0. 0. 0. 0. 0. 0. 0. 0. 0. 0. 0.\n",
            " 0. 0. 0. 0. 0. 0. 0. 0. 0. 0. 0. 0.]\n"
          ]
        }
      ]
    },
    {
      "cell_type": "code",
      "source": [
        "EPOCHS=5\n",
        "VALIDATION_SET=(X_valid,y_valid)\n",
        "history=model_clf.fit(X_train,y_train,epochs=EPOCHS,validation_data=VALIDATION_SET)\n",
        "\n",
        "#fit our model with epochs =5 "
      ],
      "metadata": {
        "colab": {
          "base_uri": "https://localhost:8080/"
        },
        "id": "5ks-2xNDATY-",
        "outputId": "f478663b-f9cf-45fc-89a2-e01c0db4937c"
      },
      "execution_count": 17,
      "outputs": [
        {
          "output_type": "stream",
          "name": "stdout",
          "text": [
            "Epoch 1/5\n",
            "1719/1719 [==============================] - 7s 3ms/step - loss: 0.2131 - accuracy: 0.9361 - val_loss: 0.1081 - val_accuracy: 0.9690\n",
            "Epoch 2/5\n",
            "1719/1719 [==============================] - 5s 3ms/step - loss: 0.0862 - accuracy: 0.9736 - val_loss: 0.0866 - val_accuracy: 0.9750\n",
            "Epoch 3/5\n",
            "1719/1719 [==============================] - 5s 3ms/step - loss: 0.0590 - accuracy: 0.9815 - val_loss: 0.0825 - val_accuracy: 0.9764\n",
            "Epoch 4/5\n",
            "1719/1719 [==============================] - 5s 3ms/step - loss: 0.0436 - accuracy: 0.9859 - val_loss: 0.0761 - val_accuracy: 0.9776\n",
            "Epoch 5/5\n",
            "1719/1719 [==============================] - 5s 3ms/step - loss: 0.0333 - accuracy: 0.9893 - val_loss: 0.0732 - val_accuracy: 0.9796\n"
          ]
        }
      ]
    },
    {
      "cell_type": "code",
      "source": [
        "#now lets save our model\n",
        "\n",
        "import time \n",
        "import os\n",
        "def saveModel_path(model_dir=\"/content/SAVED_MODELS/\"):\n",
        "  os.makedirs(model_dir, exist_ok=True)\n",
        "  fileName = time.strftime(\"Model_%Y_%m_%d_%H_%M_%S_.h5\")\n",
        "  model_path = os.path.join(model_dir, fileName) \n",
        "  print(f\"your model will be saved at the following location\\n{model_path}\")\n",
        "  return model_path\n",
        "\n",
        "model_clf.save(saveModel_path())"
      ],
      "metadata": {
        "colab": {
          "base_uri": "https://localhost:8080/"
        },
        "id": "RvXSWgM2A5IC",
        "outputId": "2b4ef075-013d-4d43-d650-5861798cdf78"
      },
      "execution_count": 19,
      "outputs": [
        {
          "output_type": "stream",
          "name": "stdout",
          "text": [
            "your model will be saved at the following location\n",
            "/content/SAVED_MODELS/Model_2023_01_24_18_22_29_.h5\n"
          ]
        }
      ]
    },
    {
      "cell_type": "code",
      "source": [
        "history.params"
      ],
      "metadata": {
        "colab": {
          "base_uri": "https://localhost:8080/"
        },
        "id": "D5rgTsWqBHa8",
        "outputId": "bcdf0dda-aa7d-4742-c5a2-65c8144b7b72"
      },
      "execution_count": 20,
      "outputs": [
        {
          "output_type": "execute_result",
          "data": {
            "text/plain": [
              "{'verbose': 1, 'epochs': 5, 'steps': 1719}"
            ]
          },
          "metadata": {},
          "execution_count": 20
        }
      ]
    },
    {
      "cell_type": "code",
      "source": [
        "pd.DataFrame(history.history).plot(figsize=(8, 5))\n",
        "plt.grid(True)\n",
        "plt.gca().set_ylim(0, 1)\n",
        "plt.show()"
      ],
      "metadata": {
        "colab": {
          "base_uri": "https://localhost:8080/",
          "height": 324
        },
        "id": "dNOQbpSMBRCr",
        "outputId": "c903cdc6-15a2-4c91-cf02-c976f81a1002"
      },
      "execution_count": 21,
      "outputs": [
        {
          "output_type": "display_data",
          "data": {
            "text/plain": [
              "<Figure size 576x360 with 1 Axes>"
            ],
            "image/png": "[encoded data removed]"
          },
          "metadata": {
            "needs_background": "light"
          }
        }
      ]
    },
    {
      "cell_type": "code",
      "source": [
        "#lets evaluate the model\n",
        "\n",
        "model_clf.evaluate(X_test,y_test)[1]"
      ],
      "metadata": {
        "colab": {
          "base_uri": "https://localhost:8080/"
        },
        "id": "LdcVKBtTBW2f",
        "outputId": "858cab39-4ca4-4905-842b-c003ea59d4a5"
      },
      "execution_count": 22,
      "outputs": [
        {
          "output_type": "stream",
          "name": "stdout",
          "text": [
            "313/313 [==============================] - 1s 2ms/step - loss: 0.0753 - accuracy: 0.9786\n"
          ]
        },
        {
          "output_type": "execute_result",
          "data": {
            "text/plain": [
              "0.978600025177002"
            ]
          },
          "metadata": {},
          "execution_count": 22
        }
      ]
    },
    {
      "cell_type": "code",
      "source": [
        "for i in range(0,3):\n",
        "  plt.imshow(X_test[i],cmap='binary')\n",
        "  plt.axis(\"off\")\n",
        "  plt.show()\n",
        "\n",
        "#seeing the 1st three images"
      ],
      "metadata": {
        "colab": {
          "base_uri": "https://localhost:8080/",
          "height": 710
        },
        "id": "Eg_QWqhKBn5W",
        "outputId": "a8a8bd37-e8b4-443d-a73f-58db8a4b9089"
      },
      "execution_count": 23,
      "outputs": [
        {
          "output_type": "display_data",
          "data": {
            "text/plain": [
              "<Figure size 432x288 with 1 Axes>"
            ],
            "image/png": "[encoded data removed]"
          },
          "metadata": {
            "needs_background": "light"
          }
        },
        {
          "output_type": "display_data",
          "data": {
            "text/plain": [
              "<Figure size 432x288 with 1 Axes>"
            ],
            "image/png": "[encoded data removed]"
          },
          "metadata": {
            "needs_background": "light"
          }
        },
        {
          "output_type": "display_data",
          "data": {
            "text/plain": [
              "<Figure size 432x288 with 1 Axes>"
            ],
            "image/png": "[encoded data removed]"
          },
          "metadata": {
            "needs_background": "light"
          }
        }
      ]
    },
    {
      "cell_type": "code",
      "source": [
        "prediction=model_clf.predict(X_test[:3])\n",
        "\n",
        "#make the prediction for these 3 images"
      ],
      "metadata": {
        "colab": {
          "base_uri": "https://localhost:8080/"
        },
        "id": "OCLtCIiwByxZ",
        "outputId": "89d1fba3-b4cc-47d1-9eca-78db5a6e9929"
      },
      "execution_count": 24,
      "outputs": [
        {
          "output_type": "stream",
          "name": "stdout",
          "text": [
            "1/1 [==============================] - 0s 63ms/step\n"
          ]
        }
      ]
    },
    {
      "cell_type": "code",
      "source": [
        "prediction"
      ],
      "metadata": {
        "colab": {
          "base_uri": "https://localhost:8080/"
        },
        "id": "C5kCN8D8CAL5",
        "outputId": "9ed8b2ae-9801-4042-f418-c09a80711195"
      },
      "execution_count": 26,
      "outputs": [
        {
          "output_type": "execute_result",
          "data": {
            "text/plain": [
              "array([[2.0874768e-06, 1.2690222e-08, 1.6983864e-07, 1.0583691e-06,\n",
              "        7.4104578e-10, 1.4436435e-08, 2.2557942e-10, 9.9964535e-01,\n",
              "        1.6463626e-06, 3.4962679e-04],\n",
              "       [1.9284699e-11, 8.1628810e-09, 1.0000000e+00, 2.6185818e-08,\n",
              "        3.9767357e-14, 2.7083430e-13, 1.4662822e-12, 5.8681816e-11,\n",
              "        1.2773649e-10, 1.5378402e-13],\n",
              "       [6.0901903e-07, 9.9991441e-01, 3.3521468e-07, 7.4773503e-09,\n",
              "        2.1141886e-05, 2.7453567e-07, 9.4936240e-07, 6.0985829e-05,\n",
              "        1.2440953e-06, 5.1355091e-08]], dtype=float32)"
            ]
          },
          "metadata": {},
          "execution_count": 26
        }
      ]
    },
    {
      "cell_type": "code",
      "source": [
        "#softmax function will give the probability for each output class\n",
        "#by using numpy, we can see which number have the maximum probability and we will get to know if the prediction is right or wrong\n",
        "\n",
        "y_prob=prediction[0]\n",
        "np.argmax(y_prob.round(5))"
      ],
      "metadata": {
        "colab": {
          "base_uri": "https://localhost:8080/"
        },
        "id": "RPZdkHZqCJo5",
        "outputId": "4000b82d-4199-4b08-eb7a-4399358d7a34"
      },
      "execution_count": 27,
      "outputs": [
        {
          "output_type": "execute_result",
          "data": {
            "text/plain": [
              "7"
            ]
          },
          "metadata": {},
          "execution_count": 27
        }
      ]
    },
    {
      "cell_type": "markdown",
      "source": [
        "predicted value is 7 , and we got it right!!"
      ],
      "metadata": {
        "id": "Pq8W7X4JCtDg"
      }
    },
    {
      "cell_type": "code",
      "source": [
        "y_prob=prediction[1]\n",
        "np.argmax(y_prob.round(5))"
      ],
      "metadata": {
        "colab": {
          "base_uri": "https://localhost:8080/"
        },
        "id": "8oUEpQgkCykF",
        "outputId": "2bebf6b5-543d-44ed-f1f5-92a94675471b"
      },
      "execution_count": 28,
      "outputs": [
        {
          "output_type": "execute_result",
          "data": {
            "text/plain": [
              "2"
            ]
          },
          "metadata": {},
          "execution_count": 28
        }
      ]
    },
    {
      "cell_type": "code",
      "source": [
        "y_prob=prediction[2]\n",
        "np.argmax(y_prob.round(5))"
      ],
      "metadata": {
        "colab": {
          "base_uri": "https://localhost:8080/"
        },
        "id": "Cn1GPGS-C5NL",
        "outputId": "e9b79c7e-ad33-4eec-877c-9ce9b1e0e429"
      },
      "execution_count": 29,
      "outputs": [
        {
          "output_type": "execute_result",
          "data": {
            "text/plain": [
              "1"
            ]
          },
          "metadata": {},
          "execution_count": 29
        }
      ]
    },
    {
      "cell_type": "markdown",
      "source": [
        "3 of our predictions are right !!"
      ],
      "metadata": {
        "id": "FsoeA-vsC_Mw"
      }
    },
    {
      "cell_type": "code",
      "source": [
        "from tensorflow.keras.models import load_model\n",
        "model=load_model(\"/content/SAVED_MODELS/Model_2023_01_24_18_22_29_.h5\")"
      ],
      "metadata": {
        "id": "XVws7GvhDf5_"
      },
      "execution_count": 35,
      "outputs": []
    }
  ]
}